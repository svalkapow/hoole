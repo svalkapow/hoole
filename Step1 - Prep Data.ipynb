{
 "cells": [
  {
   "cell_type": "code",
   "execution_count": 1,
   "metadata": {},
   "outputs": [],
   "source": [
    "import pandas as pd\n",
    "import numpy as np\n",
    "import datetime\n",
    "import random\n",
    "df = pd.read_csv ('2019-Dec.csv')"
   ]
  },
  {
   "cell_type": "code",
   "execution_count": 2,
   "metadata": {},
   "outputs": [
    {
     "name": "stdout",
     "output_type": "stream",
     "text": [
      "<class 'pandas.core.frame.DataFrame'>\n",
      "RangeIndex: 3533286 entries, 0 to 3533285\n",
      "Data columns (total 9 columns):\n",
      " #   Column         Dtype  \n",
      "---  ------         -----  \n",
      " 0   event_time     object \n",
      " 1   event_type     object \n",
      " 2   product_id     int64  \n",
      " 3   category_id    int64  \n",
      " 4   category_code  object \n",
      " 5   brand          object \n",
      " 6   price          float64\n",
      " 7   user_id        int64  \n",
      " 8   user_session   object \n",
      "dtypes: float64(1), int64(3), object(5)\n",
      "memory usage: 242.6+ MB\n"
     ]
    }
   ],
   "source": [
    "df.info()"
   ]
  },
  {
   "cell_type": "code",
   "execution_count": 3,
   "metadata": {},
   "outputs": [
    {
     "data": {
      "text/html": [
       "<div>\n",
       "<style scoped>\n",
       "    .dataframe tbody tr th:only-of-type {\n",
       "        vertical-align: middle;\n",
       "    }\n",
       "\n",
       "    .dataframe tbody tr th {\n",
       "        vertical-align: top;\n",
       "    }\n",
       "\n",
       "    .dataframe thead th {\n",
       "        text-align: right;\n",
       "    }\n",
       "</style>\n",
       "<table border=\"1\" class=\"dataframe\">\n",
       "  <thead>\n",
       "    <tr style=\"text-align: right;\">\n",
       "      <th></th>\n",
       "      <th>product_id</th>\n",
       "      <th>category_id</th>\n",
       "      <th>price</th>\n",
       "      <th>user_id</th>\n",
       "    </tr>\n",
       "  </thead>\n",
       "  <tbody>\n",
       "    <tr>\n",
       "      <th>count</th>\n",
       "      <td>3.533286e+06</td>\n",
       "      <td>3.533286e+06</td>\n",
       "      <td>3.533286e+06</td>\n",
       "      <td>3.533286e+06</td>\n",
       "    </tr>\n",
       "    <tr>\n",
       "      <th>mean</th>\n",
       "      <td>5.473054e+06</td>\n",
       "      <td>1.555023e+18</td>\n",
       "      <td>8.871856e+00</td>\n",
       "      <td>5.223318e+08</td>\n",
       "    </tr>\n",
       "    <tr>\n",
       "      <th>std</th>\n",
       "      <td>1.331331e+06</td>\n",
       "      <td>1.689262e+17</td>\n",
       "      <td>1.986474e+01</td>\n",
       "      <td>8.494819e+07</td>\n",
       "    </tr>\n",
       "    <tr>\n",
       "      <th>min</th>\n",
       "      <td>3.752000e+03</td>\n",
       "      <td>1.487580e+18</td>\n",
       "      <td>-7.937000e+01</td>\n",
       "      <td>1.180452e+06</td>\n",
       "    </tr>\n",
       "    <tr>\n",
       "      <th>25%</th>\n",
       "      <td>5.726191e+06</td>\n",
       "      <td>1.487580e+18</td>\n",
       "      <td>2.060000e+00</td>\n",
       "      <td>4.866830e+08</td>\n",
       "    </tr>\n",
       "    <tr>\n",
       "      <th>50%</th>\n",
       "      <td>5.811429e+06</td>\n",
       "      <td>1.487580e+18</td>\n",
       "      <td>4.210000e+00</td>\n",
       "      <td>5.566496e+08</td>\n",
       "    </tr>\n",
       "    <tr>\n",
       "      <th>75%</th>\n",
       "      <td>5.859462e+06</td>\n",
       "      <td>1.487580e+18</td>\n",
       "      <td>7.140000e+00</td>\n",
       "      <td>5.828019e+08</td>\n",
       "    </tr>\n",
       "    <tr>\n",
       "      <th>max</th>\n",
       "      <td>5.917178e+06</td>\n",
       "      <td>2.235524e+18</td>\n",
       "      <td>3.277800e+02</td>\n",
       "      <td>5.954145e+08</td>\n",
       "    </tr>\n",
       "  </tbody>\n",
       "</table>\n",
       "</div>"
      ],
      "text/plain": [
       "         product_id   category_id         price       user_id\n",
       "count  3.533286e+06  3.533286e+06  3.533286e+06  3.533286e+06\n",
       "mean   5.473054e+06  1.555023e+18  8.871856e+00  5.223318e+08\n",
       "std    1.331331e+06  1.689262e+17  1.986474e+01  8.494819e+07\n",
       "min    3.752000e+03  1.487580e+18 -7.937000e+01  1.180452e+06\n",
       "25%    5.726191e+06  1.487580e+18  2.060000e+00  4.866830e+08\n",
       "50%    5.811429e+06  1.487580e+18  4.210000e+00  5.566496e+08\n",
       "75%    5.859462e+06  1.487580e+18  7.140000e+00  5.828019e+08\n",
       "max    5.917178e+06  2.235524e+18  3.277800e+02  5.954145e+08"
      ]
     },
     "execution_count": 3,
     "metadata": {},
     "output_type": "execute_result"
    }
   ],
   "source": [
    "df.describe()"
   ]
  },
  {
   "cell_type": "code",
   "execution_count": 4,
   "metadata": {},
   "outputs": [
    {
     "data": {
      "text/html": [
       "<div>\n",
       "<style scoped>\n",
       "    .dataframe tbody tr th:only-of-type {\n",
       "        vertical-align: middle;\n",
       "    }\n",
       "\n",
       "    .dataframe tbody tr th {\n",
       "        vertical-align: top;\n",
       "    }\n",
       "\n",
       "    .dataframe thead th {\n",
       "        text-align: right;\n",
       "    }\n",
       "</style>\n",
       "<table border=\"1\" class=\"dataframe\">\n",
       "  <thead>\n",
       "    <tr style=\"text-align: right;\">\n",
       "      <th></th>\n",
       "      <th>event_time</th>\n",
       "      <th>event_type</th>\n",
       "      <th>product_id</th>\n",
       "      <th>category_id</th>\n",
       "      <th>category_code</th>\n",
       "      <th>brand</th>\n",
       "      <th>price</th>\n",
       "      <th>user_id</th>\n",
       "      <th>user_session</th>\n",
       "    </tr>\n",
       "  </thead>\n",
       "  <tbody>\n",
       "    <tr>\n",
       "      <th>0</th>\n",
       "      <td>2019-12-01 00:00:00 UTC</td>\n",
       "      <td>remove_from_cart</td>\n",
       "      <td>5712790</td>\n",
       "      <td>1487580005268456287</td>\n",
       "      <td>NaN</td>\n",
       "      <td>f.o.x</td>\n",
       "      <td>6.27</td>\n",
       "      <td>576802932</td>\n",
       "      <td>51d85cb0-897f-48d2-918b-ad63965c12dc</td>\n",
       "    </tr>\n",
       "    <tr>\n",
       "      <th>1</th>\n",
       "      <td>2019-12-01 00:00:00 UTC</td>\n",
       "      <td>view</td>\n",
       "      <td>5764655</td>\n",
       "      <td>1487580005411062629</td>\n",
       "      <td>NaN</td>\n",
       "      <td>cnd</td>\n",
       "      <td>29.05</td>\n",
       "      <td>412120092</td>\n",
       "      <td>8adff31e-2051-4894-9758-224bfa8aec18</td>\n",
       "    </tr>\n",
       "    <tr>\n",
       "      <th>2</th>\n",
       "      <td>2019-12-01 00:00:02 UTC</td>\n",
       "      <td>cart</td>\n",
       "      <td>4958</td>\n",
       "      <td>1487580009471148064</td>\n",
       "      <td>NaN</td>\n",
       "      <td>runail</td>\n",
       "      <td>1.19</td>\n",
       "      <td>494077766</td>\n",
       "      <td>c99a50e8-2fac-4c4d-89ec-41c05f114554</td>\n",
       "    </tr>\n",
       "    <tr>\n",
       "      <th>3</th>\n",
       "      <td>2019-12-01 00:00:05 UTC</td>\n",
       "      <td>view</td>\n",
       "      <td>5848413</td>\n",
       "      <td>1487580007675986893</td>\n",
       "      <td>NaN</td>\n",
       "      <td>freedecor</td>\n",
       "      <td>0.79</td>\n",
       "      <td>348405118</td>\n",
       "      <td>722ffea5-73c0-4924-8e8f-371ff8031af4</td>\n",
       "    </tr>\n",
       "    <tr>\n",
       "      <th>4</th>\n",
       "      <td>2019-12-01 00:00:07 UTC</td>\n",
       "      <td>view</td>\n",
       "      <td>5824148</td>\n",
       "      <td>1487580005511725929</td>\n",
       "      <td>NaN</td>\n",
       "      <td>NaN</td>\n",
       "      <td>5.56</td>\n",
       "      <td>576005683</td>\n",
       "      <td>28172809-7e4a-45ce-bab0-5efa90117cd5</td>\n",
       "    </tr>\n",
       "  </tbody>\n",
       "</table>\n",
       "</div>"
      ],
      "text/plain": [
       "                event_time        event_type  product_id          category_id  \\\n",
       "0  2019-12-01 00:00:00 UTC  remove_from_cart     5712790  1487580005268456287   \n",
       "1  2019-12-01 00:00:00 UTC              view     5764655  1487580005411062629   \n",
       "2  2019-12-01 00:00:02 UTC              cart        4958  1487580009471148064   \n",
       "3  2019-12-01 00:00:05 UTC              view     5848413  1487580007675986893   \n",
       "4  2019-12-01 00:00:07 UTC              view     5824148  1487580005511725929   \n",
       "\n",
       "  category_code      brand  price    user_id  \\\n",
       "0           NaN      f.o.x   6.27  576802932   \n",
       "1           NaN        cnd  29.05  412120092   \n",
       "2           NaN     runail   1.19  494077766   \n",
       "3           NaN  freedecor   0.79  348405118   \n",
       "4           NaN        NaN   5.56  576005683   \n",
       "\n",
       "                           user_session  \n",
       "0  51d85cb0-897f-48d2-918b-ad63965c12dc  \n",
       "1  8adff31e-2051-4894-9758-224bfa8aec18  \n",
       "2  c99a50e8-2fac-4c4d-89ec-41c05f114554  \n",
       "3  722ffea5-73c0-4924-8e8f-371ff8031af4  \n",
       "4  28172809-7e4a-45ce-bab0-5efa90117cd5  "
      ]
     },
     "execution_count": 4,
     "metadata": {},
     "output_type": "execute_result"
    }
   ],
   "source": [
    "df.head()"
   ]
  },
  {
   "cell_type": "code",
   "execution_count": 2,
   "metadata": {},
   "outputs": [
    {
     "name": "stdout",
     "output_type": "stream",
     "text": [
      "Data collected for 30 days\n",
      "Start time: 2023-05-01 00:00:00\n",
      "End time: 2023-05-31 23:59:57\n",
      "Unique users: 370154\n",
      "Unique products: 44624\n"
     ]
    }
   ],
   "source": [
    "df = df.drop(columns=['brand', 'user_session', 'category_id'])\n",
    "\n",
    "df[\"event_time\"] = df[\"event_time\"].str.replace(\" UTC\", \"\")\n",
    "df['event_time'] = pd.to_datetime(df['event_time'], format='%Y-%m-%d %H:%M:%S')\n",
    "df['event_time'] = df['event_time'].apply(lambda x: x.replace(year=2023, month=5))\n",
    "\n",
    "start_time = df['event_time'].min()\n",
    "end_time = df['event_time'].max()\n",
    "data_duration = (end_time - start_time).days\n",
    "print(f\"Data collected for {data_duration} days\")\n",
    "print(f\"Start time: {start_time}\")\n",
    "print(f\"End time: {end_time}\")\n",
    "print(f\"Unique users: {df['user_id'].nunique()}\")\n",
    "print(f\"Unique products: {df['product_id'].nunique()}\")"
   ]
  },
  {
   "cell_type": "code",
   "execution_count": 3,
   "metadata": {},
   "outputs": [
    {
     "data": {
      "text/html": [
       "<div>\n",
       "<style scoped>\n",
       "    .dataframe tbody tr th:only-of-type {\n",
       "        vertical-align: middle;\n",
       "    }\n",
       "\n",
       "    .dataframe tbody tr th {\n",
       "        vertical-align: top;\n",
       "    }\n",
       "\n",
       "    .dataframe thead th {\n",
       "        text-align: right;\n",
       "    }\n",
       "</style>\n",
       "<table border=\"1\" class=\"dataframe\">\n",
       "  <thead>\n",
       "    <tr style=\"text-align: right;\">\n",
       "      <th></th>\n",
       "      <th>event_time</th>\n",
       "      <th>event_type</th>\n",
       "      <th>product_id</th>\n",
       "      <th>category_code</th>\n",
       "      <th>price</th>\n",
       "      <th>user_id</th>\n",
       "    </tr>\n",
       "  </thead>\n",
       "  <tbody>\n",
       "    <tr>\n",
       "      <th>0</th>\n",
       "      <td>2023-05-01 00:00:00</td>\n",
       "      <td>remove_from_cart</td>\n",
       "      <td>5712790</td>\n",
       "      <td>NaN</td>\n",
       "      <td>6.27</td>\n",
       "      <td>576802932</td>\n",
       "    </tr>\n",
       "    <tr>\n",
       "      <th>1</th>\n",
       "      <td>2023-05-01 00:00:00</td>\n",
       "      <td>view</td>\n",
       "      <td>5764655</td>\n",
       "      <td>NaN</td>\n",
       "      <td>29.05</td>\n",
       "      <td>412120092</td>\n",
       "    </tr>\n",
       "    <tr>\n",
       "      <th>2</th>\n",
       "      <td>2023-05-01 00:00:02</td>\n",
       "      <td>cart</td>\n",
       "      <td>4958</td>\n",
       "      <td>NaN</td>\n",
       "      <td>1.19</td>\n",
       "      <td>494077766</td>\n",
       "    </tr>\n",
       "    <tr>\n",
       "      <th>3</th>\n",
       "      <td>2023-05-01 00:00:05</td>\n",
       "      <td>view</td>\n",
       "      <td>5848413</td>\n",
       "      <td>NaN</td>\n",
       "      <td>0.79</td>\n",
       "      <td>348405118</td>\n",
       "    </tr>\n",
       "    <tr>\n",
       "      <th>4</th>\n",
       "      <td>2023-05-01 00:00:07</td>\n",
       "      <td>view</td>\n",
       "      <td>5824148</td>\n",
       "      <td>NaN</td>\n",
       "      <td>5.56</td>\n",
       "      <td>576005683</td>\n",
       "    </tr>\n",
       "  </tbody>\n",
       "</table>\n",
       "</div>"
      ],
      "text/plain": [
       "           event_time        event_type  product_id category_code  price  \\\n",
       "0 2023-05-01 00:00:00  remove_from_cart     5712790           NaN   6.27   \n",
       "1 2023-05-01 00:00:00              view     5764655           NaN  29.05   \n",
       "2 2023-05-01 00:00:02              cart        4958           NaN   1.19   \n",
       "3 2023-05-01 00:00:05              view     5848413           NaN   0.79   \n",
       "4 2023-05-01 00:00:07              view     5824148           NaN   5.56   \n",
       "\n",
       "     user_id  \n",
       "0  576802932  \n",
       "1  412120092  \n",
       "2  494077766  \n",
       "3  348405118  \n",
       "4  576005683  "
      ]
     },
     "execution_count": 3,
     "metadata": {},
     "output_type": "execute_result"
    }
   ],
   "source": [
    "df.head()"
   ]
  },
  {
   "cell_type": "code",
   "execution_count": 4,
   "metadata": {},
   "outputs": [
    {
     "name": "stdout",
     "output_type": "stream",
     "text": [
      "ages: 31    428165\n",
      "28    427271\n",
      "19    357032\n",
      "22    329298\n",
      "27    277687\n",
      "24    271197\n",
      "30    262755\n",
      "29    247941\n",
      "25    220649\n",
      "32    204393\n",
      "26    188898\n",
      "20    174600\n",
      "21     72673\n",
      "18     46000\n",
      "23     24727\n",
      "Name: age, dtype: int64\n"
     ]
    }
   ],
   "source": [
    "# Create a list of unique user IDs\n",
    "unique_user_ids = df['user_id'].unique()\n",
    "\n",
    "# Define age values and weights\n",
    "age_values = list(range(18, 33))  # Ages from 18 to 38\n",
    "age_weights = [random.randint(1, 100) for _ in range(len(age_values))]\n",
    "total_age_weights = sum(age_weights)\n",
    "normalized_age_weights = [age_weight / total_age_weights for age_weight in age_weights]\n",
    "\n",
    "# Create a dictionary to store user_id to age mapping using dictionary comprehension\n",
    "user_age_mapping = {user_id: random.choices(age_values, weights=normalized_age_weights)[0] for user_id in unique_user_ids}\n",
    "df['age'] = df['user_id'].map(user_age_mapping)\n",
    "\n",
    "print(f\"ages: {df['age'].value_counts()}\")\n"
   ]
  },
  {
   "cell_type": "code",
   "execution_count": 8,
   "metadata": {},
   "outputs": [
    {
     "name": "stdout",
     "output_type": "stream",
     "text": [
      "sex: female    2236176\n",
      "male      1297110\n",
      "Name: sex, dtype: int64\n"
     ]
    }
   ],
   "source": [
    "# Create a list of unique user IDs\n",
    "unique_user_ids = df['user_id'].unique()\n",
    "\n",
    "# Define sex values and weights\n",
    "sex = [\"male\", \"female\"]\n",
    "s_weights = [random.randint(1, 100) for _ in range(len(sex))]\n",
    "s_total_weights = sum(s_weights)\n",
    "s_normalized_weights = [s_weight / s_total_weights for s_weight in s_weights]\n",
    "\n",
    "# Create a dictionary to store user_id to sex mapping using dictionary comprehension\n",
    "user_sex_mapping = {user_id: random.choices(sex, weights=s_normalized_weights)[0] for user_id in unique_user_ids}\n",
    "df['sex'] = df['user_id'].map(user_sex_mapping)\n",
    "\n",
    "print(f\"sex: {df['sex'].value_counts()}\")"
   ]
  },
  {
   "cell_type": "code",
   "execution_count": 6,
   "metadata": {},
   "outputs": [
    {
     "name": "stdout",
     "output_type": "stream",
     "text": [
      "category: Piercings.PiercingRings            243212\n",
      "Piercings.Spirals                  164644\n",
      "Piercings.NipplePiercings          147784\n",
      "Jewellery.Beads                    143204\n",
      "Jewellery.Pendants                 135638\n",
      "Piercings.NoseJewellery&Septums    134391\n",
      "Piercings.CurvedBarbells           132986\n",
      "Jewellery.Charms                   132268\n",
      "Piercings.DermalAnchors            131300\n",
      "Piercings.Tunnels&Plugs            129062\n",
      "Jewellery.Necklaces                128202\n",
      "Piercings.EarWeights&Hangers       127280\n",
      "Jewellery.Anklets                  126123\n",
      "Jewellery.Rings                    123975\n",
      "Jewellery.EarringsStuds&Shields    123266\n",
      "Piercings.BallsPins&More           123252\n",
      "Piercings.Barbells                 123221\n",
      "Jewellery.Bracelets                122009\n",
      "Piercings.StretchingTools          121839\n",
      "Piercings.CircularBarbells         121495\n",
      "Piercings.Helix&Tragus             118681\n",
      "Jewellery.Flatbeads                118560\n",
      "Jewellery.FingerClaws              118129\n",
      "Piercings.Labrets                  114312\n",
      "Piercings.FakePiercings            113636\n",
      "Jewellery.ToeRings                 108490\n",
      "Piercings.Tools&Accessories        106327\n",
      "Name: category_code, dtype: int64\n"
     ]
    }
   ],
   "source": [
    "# Load categories from the file\n",
    "with open(\"categories.txt\", \"r\") as file:\n",
    "    categories = [line.strip() for line in file.readlines()]\n",
    "\n",
    "# Create a dictionary to map product_id to category_code\n",
    "product_category_mapping = {product_id: random.choice(categories) for product_id in df['product_id'].unique()}\n",
    "\n",
    "# Assign category_code to each product_id in the DataFrame\n",
    "df['category_code'] = df['product_id'].map(product_category_mapping)\n",
    "\n",
    "print(f\"category: {df['category_code'].value_counts()}\")\n"
   ]
  },
  {
   "cell_type": "code",
   "execution_count": 9,
   "metadata": {},
   "outputs": [],
   "source": [
    "def generate_price():\n",
    "    integer_part = random.randint(1, 59)\n",
    "    decimal_part = random.choice([9, 19, 29, 39, 49, 59, 69, 79, 89, 99])\n",
    "    return float(f\"{integer_part}.{decimal_part}\")\n",
    "\n",
    "# Örnek ürün kimlikleri\n",
    "unique_product_ids = df['product_id'].unique()\n",
    "\n",
    "# Her bir ürün kimliği için rastgele fiyat oluşturup DataFrame'e atama\n",
    "price_mapping = {product_id: generate_price() for product_id in unique_product_ids}\n",
    "df['price'] = df['product_id'].map(price_mapping)"
   ]
  },
  {
   "cell_type": "code",
   "execution_count": 10,
   "metadata": {},
   "outputs": [
    {
     "name": "stdout",
     "output_type": "stream",
     "text": [
      "Unique users: 20132\n",
      "Unique products: 23999\n",
      "Event types: view                90690\n",
      "cart                51712\n",
      "remove_from_cart    34250\n",
      "purchase            11821\n",
      "Name: event_type, dtype: int64\n"
     ]
    }
   ],
   "source": [
    "# Create a list of unique user IDs\n",
    "unique_user_ids = df['user_id'].unique()\n",
    "\n",
    "# Randomly select 32134 unique user IDs\n",
    "random_user_ids = np.random.choice(unique_user_ids, 20132, replace=False)\n",
    "\n",
    "# Create a new DataFrame containing only rows for selected users\n",
    "df = df[df['user_id'].isin(random_user_ids)]\n",
    "\n",
    "print(f\"Unique users: {df['user_id'].nunique()}\")\n",
    "print(f\"Unique products: {df['product_id'].nunique()}\")\n",
    "print(f\"Event types: {df['event_type'].value_counts()}\")"
   ]
  },
  {
   "cell_type": "code",
   "execution_count": 11,
   "metadata": {},
   "outputs": [
    {
     "name": "stdout",
     "output_type": "stream",
     "text": [
      "Unique users: 1051\n",
      "Unique products: 352\n",
      "Event types: view                1131\n",
      "cart                 640\n",
      "remove_from_cart     420\n",
      "purchase             139\n",
      "Name: event_type, dtype: int64\n"
     ]
    }
   ],
   "source": [
    "# Create a list of unique user IDs\n",
    "unique_product_ids = df['product_id'].unique()\n",
    "\n",
    "# Randomly select 32134 unique user IDs\n",
    "random_product_ids = np.random.choice(unique_product_ids, 352, replace=False)\n",
    "\n",
    "# Create a new DataFrame containing only rows for selected users\n",
    "df = df[df['product_id'].isin(random_product_ids)]\n",
    "\n",
    "print(f\"Unique users: {df['user_id'].nunique()}\")\n",
    "print(f\"Unique products: {df['product_id'].nunique()}\")\n",
    "print(f\"Event types: {df['event_type'].value_counts()}\")"
   ]
  },
  {
   "cell_type": "code",
   "execution_count": 12,
   "metadata": {},
   "outputs": [
    {
     "name": "stdout",
     "output_type": "stream",
     "text": [
      "         event_time  event_type  product_id  category_code  price  user_id  \\\n",
      "2421          False       False       False          False  False    False   \n",
      "2422          False       False       False          False  False    False   \n",
      "10067         False       False       False          False  False    False   \n",
      "12635         False       False       False          False  False    False   \n",
      "13335         False       False       False          False  False    False   \n",
      "...             ...         ...         ...            ...    ...      ...   \n",
      "3520527       False       False       False          False  False    False   \n",
      "3524652       False       False       False          False  False    False   \n",
      "3524834       False       False       False          False  False    False   \n",
      "3527057       False       False       False          False  False    False   \n",
      "3530399       False       False       False          False  False    False   \n",
      "\n",
      "           age    sex  \n",
      "2421     False  False  \n",
      "2422     False  False  \n",
      "10067    False  False  \n",
      "12635    False  False  \n",
      "13335    False  False  \n",
      "...        ...    ...  \n",
      "3520527  False  False  \n",
      "3524652  False  False  \n",
      "3524834  False  False  \n",
      "3527057  False  False  \n",
      "3530399  False  False  \n",
      "\n",
      "[2330 rows x 8 columns]\n"
     ]
    }
   ],
   "source": [
    "null_values = df.isnull()\n",
    "print(null_values)\n"
   ]
  },
  {
   "cell_type": "code",
   "execution_count": 13,
   "metadata": {},
   "outputs": [],
   "source": [
    "df = df[[ 'event_time', 'user_id', 'sex', 'age', 'event_type', 'product_id', 'category_code', 'price']]"
   ]
  },
  {
   "cell_type": "code",
   "execution_count": 14,
   "metadata": {},
   "outputs": [
    {
     "data": {
      "text/html": [
       "<div>\n",
       "<style scoped>\n",
       "    .dataframe tbody tr th:only-of-type {\n",
       "        vertical-align: middle;\n",
       "    }\n",
       "\n",
       "    .dataframe tbody tr th {\n",
       "        vertical-align: top;\n",
       "    }\n",
       "\n",
       "    .dataframe thead th {\n",
       "        text-align: right;\n",
       "    }\n",
       "</style>\n",
       "<table border=\"1\" class=\"dataframe\">\n",
       "  <thead>\n",
       "    <tr style=\"text-align: right;\">\n",
       "      <th></th>\n",
       "      <th>event_time</th>\n",
       "      <th>user_id</th>\n",
       "      <th>sex</th>\n",
       "      <th>age</th>\n",
       "      <th>event_type</th>\n",
       "      <th>product_id</th>\n",
       "      <th>category_code</th>\n",
       "      <th>price</th>\n",
       "    </tr>\n",
       "  </thead>\n",
       "  <tbody>\n",
       "    <tr>\n",
       "      <th>2421</th>\n",
       "      <td>2023-05-01 01:18:47</td>\n",
       "      <td>442277715</td>\n",
       "      <td>male</td>\n",
       "      <td>27</td>\n",
       "      <td>remove_from_cart</td>\n",
       "      <td>5877599</td>\n",
       "      <td>Piercings.StretchingTools</td>\n",
       "      <td>54.39</td>\n",
       "    </tr>\n",
       "    <tr>\n",
       "      <th>2422</th>\n",
       "      <td>2023-05-01 01:18:47</td>\n",
       "      <td>442277715</td>\n",
       "      <td>male</td>\n",
       "      <td>27</td>\n",
       "      <td>remove_from_cart</td>\n",
       "      <td>5877599</td>\n",
       "      <td>Piercings.StretchingTools</td>\n",
       "      <td>54.39</td>\n",
       "    </tr>\n",
       "    <tr>\n",
       "      <th>10067</th>\n",
       "      <td>2023-05-01 05:59:03</td>\n",
       "      <td>579614811</td>\n",
       "      <td>male</td>\n",
       "      <td>26</td>\n",
       "      <td>view</td>\n",
       "      <td>5855726</td>\n",
       "      <td>Jewellery.ToeRings</td>\n",
       "      <td>49.99</td>\n",
       "    </tr>\n",
       "    <tr>\n",
       "      <th>12635</th>\n",
       "      <td>2023-05-01 06:40:49</td>\n",
       "      <td>580084956</td>\n",
       "      <td>female</td>\n",
       "      <td>28</td>\n",
       "      <td>view</td>\n",
       "      <td>5823775</td>\n",
       "      <td>Piercings.BallsPins&amp;More</td>\n",
       "      <td>39.99</td>\n",
       "    </tr>\n",
       "    <tr>\n",
       "      <th>13335</th>\n",
       "      <td>2023-05-01 06:53:12</td>\n",
       "      <td>432489049</td>\n",
       "      <td>female</td>\n",
       "      <td>20</td>\n",
       "      <td>view</td>\n",
       "      <td>5885311</td>\n",
       "      <td>Piercings.PiercingRings</td>\n",
       "      <td>17.99</td>\n",
       "    </tr>\n",
       "  </tbody>\n",
       "</table>\n",
       "</div>"
      ],
      "text/plain": [
       "               event_time    user_id     sex  age        event_type  \\\n",
       "2421  2023-05-01 01:18:47  442277715    male   27  remove_from_cart   \n",
       "2422  2023-05-01 01:18:47  442277715    male   27  remove_from_cart   \n",
       "10067 2023-05-01 05:59:03  579614811    male   26              view   \n",
       "12635 2023-05-01 06:40:49  580084956  female   28              view   \n",
       "13335 2023-05-01 06:53:12  432489049  female   20              view   \n",
       "\n",
       "       product_id              category_code  price  \n",
       "2421      5877599  Piercings.StretchingTools  54.39  \n",
       "2422      5877599  Piercings.StretchingTools  54.39  \n",
       "10067     5855726         Jewellery.ToeRings  49.99  \n",
       "12635     5823775   Piercings.BallsPins&More  39.99  \n",
       "13335     5885311    Piercings.PiercingRings  17.99  "
      ]
     },
     "execution_count": 14,
     "metadata": {},
     "output_type": "execute_result"
    }
   ],
   "source": [
    "df.head()"
   ]
  },
  {
   "cell_type": "code",
   "execution_count": 15,
   "metadata": {},
   "outputs": [
    {
     "name": "stdout",
     "output_type": "stream",
     "text": [
      "<class 'pandas.core.frame.DataFrame'>\n",
      "Int64Index: 2330 entries, 2421 to 3530399\n",
      "Data columns (total 8 columns):\n",
      " #   Column         Non-Null Count  Dtype         \n",
      "---  ------         --------------  -----         \n",
      " 0   event_time     2330 non-null   datetime64[ns]\n",
      " 1   user_id        2330 non-null   int64         \n",
      " 2   sex            2330 non-null   object        \n",
      " 3   age            2330 non-null   int64         \n",
      " 4   event_type     2330 non-null   object        \n",
      " 5   product_id     2330 non-null   int64         \n",
      " 6   category_code  2330 non-null   object        \n",
      " 7   price          2330 non-null   float64       \n",
      "dtypes: datetime64[ns](1), float64(1), int64(3), object(3)\n",
      "memory usage: 163.8+ KB\n",
      "None\n"
     ]
    }
   ],
   "source": [
    "print(df.info())"
   ]
  },
  {
   "cell_type": "code",
   "execution_count": 16,
   "metadata": {},
   "outputs": [
    {
     "name": "stdout",
     "output_type": "stream",
     "text": [
      "            user_id          age    product_id        price\n",
      "count  2.330000e+03  2330.000000  2.330000e+03  2330.000000\n",
      "mean   5.244570e+08    25.836052  5.636478e+06    26.905996\n",
      "std    7.906929e+07     4.230041  9.812402e+05    17.114850\n",
      "min    6.974955e+07    18.000000  5.339000e+03     1.290000\n",
      "25%    4.859443e+08    22.000000  5.773609e+06    14.190000\n",
      "50%    5.544879e+08    27.000000  5.819273e+06    21.490000\n",
      "75%    5.827962e+08    29.000000  5.852013e+06    42.590000\n",
      "max    5.953091e+08    32.000000  5.915825e+06    59.890000\n"
     ]
    }
   ],
   "source": [
    "print(df.describe())"
   ]
  },
  {
   "cell_type": "code",
   "execution_count": 17,
   "metadata": {},
   "outputs": [
    {
     "name": "stdout",
     "output_type": "stream",
     "text": [
      "Unique users: 1051\n",
      "Unique products: 352\n",
      "Event types: view                1131\n",
      "cart                 640\n",
      "remove_from_cart     420\n",
      "purchase             139\n",
      "Name: event_type, dtype: int64\n",
      "Age: 28    298\n",
      "31    282\n",
      "19    260\n",
      "22    207\n",
      "24    191\n",
      "29    179\n",
      "25    152\n",
      "30    143\n",
      "27    138\n",
      "26    134\n",
      "32    133\n",
      "20    126\n",
      "18     34\n",
      "21     32\n",
      "23     21\n",
      "Name: age, dtype: int64\n",
      "sex: female    1393\n",
      "male       937\n",
      "Name: sex, dtype: int64\n"
     ]
    }
   ],
   "source": [
    "print(f\"Unique users: {df['user_id'].nunique()}\")\n",
    "print(f\"Unique products: {df['product_id'].nunique()}\")\n",
    "print(f\"Event types: {df['event_type'].value_counts()}\")\n",
    "print(f\"Age: {df['age'].value_counts()}\")\n",
    "print(f\"sex: {df['sex'].value_counts()}\")"
   ]
  },
  {
   "cell_type": "code",
   "execution_count": 18,
   "metadata": {},
   "outputs": [],
   "source": [
    "# CREATE NEW CSV\n",
    "df.to_csv('hoole.csv', index=False)"
   ]
  },
  {
   "cell_type": "markdown",
   "metadata": {},
   "source": [
    "---"
   ]
  }
 ],
 "metadata": {
  "kernelspec": {
   "display_name": "base",
   "language": "python",
   "name": "python3"
  },
  "language_info": {
   "codemirror_mode": {
    "name": "ipython",
    "version": 3
   },
   "file_extension": ".py",
   "mimetype": "text/x-python",
   "name": "python",
   "nbconvert_exporter": "python",
   "pygments_lexer": "ipython3",
   "version": "3.11.3"
  },
  "orig_nbformat": 4
 },
 "nbformat": 4,
 "nbformat_minor": 2
}
